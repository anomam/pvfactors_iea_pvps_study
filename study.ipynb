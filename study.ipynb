{
 "cells": [
  {
   "cell_type": "markdown",
   "metadata": {},
   "source": [
    "# PVPS Bifacial Study: pvfactors"
   ]
  },
  {
   "cell_type": "code",
   "execution_count": 22,
   "metadata": {},
   "outputs": [],
   "source": [
    "import pvlib\n",
    "from pvfactors.engine import PVEngine\n",
    "from pathlib import Path\n",
    "import pandas as pd\n",
    "import numpy as np\n",
    "from pvlib.tools import cosd, sind"
   ]
  },
  {
   "cell_type": "markdown",
   "metadata": {},
   "source": [
    "## Load weather and location data"
   ]
  },
  {
   "cell_type": "code",
   "execution_count": 9,
   "metadata": {},
   "outputs": [],
   "source": [
    "tmy_1 = Path('.') / 'inputs/ARE_Abu.Dhabi.412170_IWEC.epw'\n",
    "tmy_2 = Path('.') / 'inputs/CHL_Antofagasta.854420_IWEC.epw'\n",
    "tmy_3 = Path('.') / 'inputs/NLD_Groningen.062800_IWEC.epw'"
   ]
  },
  {
   "cell_type": "code",
   "execution_count": 20,
   "metadata": {},
   "outputs": [],
   "source": [
    "df_tmy_1, meta_tmy_1 = pvlib.iotools.read_epw(tmy_1)\n",
    "df_tmy_2, meta_tmy_2 = pvlib.iotools.read_epw(tmy_2)\n",
    "df_tmy_2, meta_tmy_2 = pvlib.iotools.read_epw(tmy_2)"
   ]
  },
  {
   "cell_type": "markdown",
   "metadata": {},
   "source": [
    "## S1: FT facing South"
   ]
  },
  {
   "cell_type": "code",
   "execution_count": null,
   "metadata": {},
   "outputs": [],
   "source": [
    "pvarray_parameters = {\n",
    "    'n_pvrows': 3,            # number of pv rows\n",
    "    'pvrow_height': 1,        # height of pvrows (measured at center / torque tube)\n",
    "    'pvrow_width': 1,         # width of pvrows\n",
    "    'axis_azimuth': 0.,       # azimuth angle of rotation axis\n",
    "    'gcr': 0.4,               # ground coverage ratio\n",
    "}"
   ]
  },
  {
   "cell_type": "code",
   "execution_count": 25,
   "metadata": {},
   "outputs": [],
   "source": [
    "def calculate_pvfactors_ft_params(clearance_height: float, mod_width: float, mod_height: float,\n",
    "                                  orientation: str, tilt: float, \n",
    "                                  mod_per_row: int, mod_spacing: float):\n",
    "    # Total spacing length\n",
    "    collector_tot_spacing = (mod_per_row - 1) * mod_spacing\n",
    "    # Collector width and length\n",
    "    if orientation == \"landscape\":\n",
    "        collector_width = mod_width\n",
    "        collector_length = mod_per_row * mod_height + collector_tot_spacing\n",
    "    else:\n",
    "        collector_width = mod_height\n",
    "        collector_length = mod_per_row * mod_width + collector_tot_spacing\n",
    "    # Calculate pvrow_height\n",
    "    pvrow_height = clearance_height + collector_width / 2. * sind(tilt)\n",
    "    print(\"pvrow_height: {} m\".format(pvrow_height))\n",
    "    # Calculate spacing ratio\n",
    "    spacing_ratio = collector_tot_spacing / collector_length\n",
    "    print(\"spacing_ratio: {}\".format(spacing_ratio))"
   ]
  },
  {
   "cell_type": "code",
   "execution_count": 29,
   "metadata": {},
   "outputs": [
    {
     "name": "stdout",
     "output_type": "stream",
     "text": [
      "S1:\n",
      "pvrow_height: 0.6691289608745432 m\n",
      "spacing_ratio: 0.0047488127968008005\n",
      "S2:\n",
      "pvrow_height: 0.9589847304307759 m\n",
      "spacing_ratio: 0.0047488127968008005\n",
      "S3:\n",
      "pvrow_height: 0.7945 m\n",
      "spacing_ratio: 0.0047488127968008005\n",
      "S4:\n",
      "pvrow_height: 1.2 m\n",
      "spacing_ratio: 0.009514271407110664\n"
     ]
    }
   ],
   "source": [
    "print(\"S1:\")\n",
    "calculate_pvfactors_ft_params(0.5, 0.989, 1.991, \"landscape\", 20., 20, 0.01)\n",
    "print(\"S2:\")\n",
    "calculate_pvfactors_ft_params(0.75, 0.989, 1.991, \"landscape\", 25., 20, 0.01)\n",
    "print(\"S3:\")\n",
    "calculate_pvfactors_ft_params(0.3, 0.989, 1.991, \"landscape\", 90., 20, 0.01)\n",
    "print(\"S4:\")\n",
    "calculate_pvfactors_ft_params(1.2, 0.989, 1.991, \"portrait\", 0., 20, 0.01)"
   ]
  },
  {
   "cell_type": "code",
   "execution_count": null,
   "metadata": {},
   "outputs": [],
   "source": []
  },
  {
   "cell_type": "code",
   "execution_count": null,
   "metadata": {},
   "outputs": [],
   "source": []
  }
 ],
 "metadata": {
  "kernelspec": {
   "display_name": "pvps_bifacial_study_py36",
   "language": "python",
   "name": "pvps_bifacial_study_py36"
  },
  "language_info": {
   "codemirror_mode": {
    "name": "ipython",
    "version": 3
   },
   "file_extension": ".py",
   "mimetype": "text/x-python",
   "name": "python",
   "nbconvert_exporter": "python",
   "pygments_lexer": "ipython3",
   "version": "3.6.4"
  }
 },
 "nbformat": 4,
 "nbformat_minor": 2
}
