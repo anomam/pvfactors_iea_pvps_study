{
 "cells": [
  {
   "cell_type": "markdown",
   "metadata": {},
   "source": [
    "# PVPS Bifacial Study: pvfactors"
   ]
  },
  {
   "cell_type": "code",
   "execution_count": 93,
   "metadata": {},
   "outputs": [],
   "source": [
    "from pathlib import Path\n",
    "import pandas as pd\n",
    "import numpy as np\n",
    "from pvlib.tools import cosd, sind\n",
    "from pvlib.solarposition import get_solarposition\n",
    "from pvlib.tracking import singleaxis as get_singleaxis\n",
    "from pvlib.pvsystem import retrieve_sam\n",
    "import datetime as dt\n",
    "import matplotlib.pyplot as plt\n",
    "\n",
    "S4_GCR = 0.35"
   ]
  },
  {
   "cell_type": "code",
   "execution_count": 69,
   "metadata": {},
   "outputs": [],
   "source": [
    "%matplotlib notebook"
   ]
  },
  {
   "cell_type": "markdown",
   "metadata": {},
   "source": [
    "## Pre-processing: calculate pvfactors inputs"
   ]
  },
  {
   "cell_type": "code",
   "execution_count": 30,
   "metadata": {},
   "outputs": [],
   "source": [
    "def calculate_pvfactors_ft_params(clearance_height: float, mod_width: float, mod_height: float,\n",
    "                                  orientation: str, tilt: float, \n",
    "                                  mod_per_row: int, mod_spacing: float):\n",
    "    \"\"\"Calculate pvfactors pvrow_height and module_spacing_ratio\"\"\"\n",
    "    # Total spacing length\n",
    "    collector_tot_spacing = (mod_per_row - 1) * mod_spacing\n",
    "    # Collector width and length\n",
    "    if orientation == \"landscape\":\n",
    "        collector_width = mod_width\n",
    "        collector_length = mod_per_row * mod_height + collector_tot_spacing\n",
    "    else:\n",
    "        collector_width = mod_height\n",
    "        collector_length = mod_per_row * mod_width + collector_tot_spacing\n",
    "    # Calculate pvrow_height\n",
    "    pvrow_height = clearance_height + collector_width / 2. * sind(tilt)\n",
    "    print(\"pvrow_height: {} m\".format(pvrow_height))\n",
    "    # Calculate spacing ratio\n",
    "    spacing_ratio = collector_tot_spacing / collector_length\n",
    "    print(\"spacing_ratio: {}\".format(spacing_ratio))"
   ]
  },
  {
   "cell_type": "code",
   "execution_count": 29,
   "metadata": {},
   "outputs": [
    {
     "name": "stdout",
     "output_type": "stream",
     "text": [
      "S1:\n",
      "pvrow_height: 0.6691289608745432 m\n",
      "spacing_ratio: 0.0047488127968008005\n",
      "S2:\n",
      "pvrow_height: 0.9589847304307759 m\n",
      "spacing_ratio: 0.0047488127968008005\n",
      "S3:\n",
      "pvrow_height: 0.7945 m\n",
      "spacing_ratio: 0.0047488127968008005\n",
      "S4:\n",
      "pvrow_height: 1.2 m\n",
      "spacing_ratio: 0.009514271407110664\n"
     ]
    }
   ],
   "source": [
    "print(\"S1:\")\n",
    "calculate_pvfactors_ft_params(0.5, 0.989, 1.991, \"landscape\", 20., 20, 0.01)\n",
    "print(\"S2:\")\n",
    "calculate_pvfactors_ft_params(0.75, 0.989, 1.991, \"landscape\", 25., 20, 0.01)\n",
    "print(\"S3:\")\n",
    "calculate_pvfactors_ft_params(0.3, 0.989, 1.991, \"landscape\", 90., 20, 0.01)\n",
    "print(\"S4:\")\n",
    "calculate_pvfactors_ft_params(1.2, 0.989, 1.991, \"portrait\", 0., 20, 0.01)"
   ]
  },
  {
   "cell_type": "markdown",
   "metadata": {},
   "source": [
    "## Load weather and location data"
   ]
  },
  {
   "cell_type": "code",
   "execution_count": 9,
   "metadata": {},
   "outputs": [],
   "source": [
    "tmy_1 = Path('.') / 'inputs/ARE_Abu.Dhabi.412170_IWEC.epw'\n",
    "tmy_2 = Path('.') / 'inputs/CHL_Antofagasta.854420_IWEC.epw'\n",
    "tmy_3 = Path('.') / 'inputs/NLD_Groningen.062800_IWEC.epw'"
   ]
  },
  {
   "cell_type": "code",
   "execution_count": 109,
   "metadata": {},
   "outputs": [],
   "source": [
    "def preprocess_weather(filepath: Path):\n",
    "    \"\"\"Preprocess weather data for pvfactors simulation:\n",
    "    - import EPW irradiance data\n",
    "    - calculate solar angles with the correct time offset (+30min)\n",
    "    - calculate solar angle checks to make sure time offset is good\n",
    "    - calculate S4 single-axis tracking angles with back-tracking (requires S4_GCR)\n",
    "    \"\"\"\n",
    "    df, meta = pvlib.iotools.read_epw(filepath, coerce_year=2003)\n",
    "    df = df[['ghi', 'dni', 'dhi']]\n",
    "    # solar angles: the timestamp is the beginning of the interval, but the values are avg over interval\n",
    "    solpos = get_solarposition(df.index + dt.timedelta(minutes=30), \n",
    "                               meta['latitude'], meta['longitude'], \n",
    "                               altitude=meta['altitude'])\n",
    "    solpos.index = df.index\n",
    "    df = df.join(solpos[['apparent_zenith', 'zenith', 'azimuth']])\n",
    "    # for timestamp check of solar angles: +30 min is good\n",
    "    df['ghi_calc'] = df.dhi + df.dni * cosd(df.zenith)\n",
    "    df['delta'] = (df.ghi_calc - df.ghi) / df.ghi * 100.  # should be < 5%\n",
    "    # sat angles\n",
    "    sat_angles = get_singleaxis(df.apparent_zenith, df.azimuth, axis_azimuth=0,\n",
    "                               max_angle=90, backtrack=True, gcr=S4_GCR)\n",
    "    df = df.join(sat_angles.surface_tilt).rename(columns={'surface_tilt': 'S4_tilt'})\n",
    "    df.index.name = 'timestamps'\n",
    "    return df"
   ]
  },
  {
   "cell_type": "code",
   "execution_count": 110,
   "metadata": {},
   "outputs": [],
   "source": [
    "# Write data\n",
    "input_folder = Path('.') / 'inputs'\n",
    "for i, fp in enumerate([tmy_1, tmy_2, tmy_3]):\n",
    "    df = preprocess_weather(fp)\n",
    "    df.to_csv(input_folder / ('S%i_timeseries.csv' % (i+1)))"
   ]
  },
  {
   "cell_type": "markdown",
   "metadata": {},
   "source": [
    "## Calculate the reflectivity of front and back for the PV module"
   ]
  },
  {
   "cell_type": "markdown",
   "metadata": {},
   "source": [
    "Not sure what to use for the fAOI coefficients of the Prism module.\n",
    "The PAN file indicates Tempered AR glass used on the front side of the module, but we don't know what's used on the back side.\n",
    "So we'll randomly choose a module in the pvlib database that should probably have tempered AR glass as well: \"SunPower_SPR_305_WHT___2009_\""
   ]
  },
  {
   "cell_type": "code",
   "execution_count": 94,
   "metadata": {},
   "outputs": [],
   "source": [
    "sandia_modules = retrieve_sam('SandiaMod')"
   ]
  },
  {
   "cell_type": "code",
   "execution_count": 98,
   "metadata": {},
   "outputs": [],
   "source": [
    "module_name = \"SunPower_SPR_305_WHT___2009_\""
   ]
  },
  {
   "cell_type": "code",
   "execution_count": 99,
   "metadata": {},
   "outputs": [],
   "source": [
    "from pvfactors.viewfactors.aoimethods import faoi_fn_from_pvlib_sandia"
   ]
  },
  {
   "cell_type": "code",
   "execution_count": 101,
   "metadata": {},
   "outputs": [],
   "source": [
    "faoi_function = faoi_fn_from_pvlib_sandia(module_name)"
   ]
  },
  {
   "cell_type": "code",
   "execution_count": 102,
   "metadata": {},
   "outputs": [],
   "source": [
    "from pvfactors.viewfactors import VFCalculator\n",
    "\n",
    "vf_calculator = VFCalculator(faoi_fn_front=faoi_function, faoi_fn_back=faoi_function,\n",
    "                             n_aoi_integral_sections=10000)"
   ]
  },
  {
   "cell_type": "code",
   "execution_count": 103,
   "metadata": {},
   "outputs": [
    {
     "name": "stdout",
     "output_type": "stream",
     "text": [
      "Reflectivity values for front side: 0.029355328821075943, and back side: 0.029355328821075943\n"
     ]
    },
    {
     "name": "stderr",
     "output_type": "stream",
     "text": [
      "/Users/marco/.virtualenvs/pvps_bifacial_study/lib/python3.6/site-packages/pvfactors/viewfactors/aoimethods.py:684: pvlibDeprecationWarning: The sapm_aoi_loss function was deprecated in pvlib 0.7 and will be removed in 0.8. Use iam.sapm instead.\n",
      "  return pvlib.pvsystem.sapm_aoi_loss(angles, pvmodule, upper=1.)\n"
     ]
    }
   ],
   "source": [
    "# For back PV row surface\n",
    "is_back = True\n",
    "rho_back = vf_calculator.vf_aoi_methods.rho_from_faoi_fn(is_back)\n",
    "# For front PV row surface\n",
    "is_back = False\n",
    "rho_front = vf_calculator.vf_aoi_methods.rho_from_faoi_fn(is_back)\n",
    "\n",
    "# Print results\n",
    "print('Reflectivity values for front side: {}, and back side: {}'.format(rho_front, rho_back))"
   ]
  },
  {
   "cell_type": "code",
   "execution_count": null,
   "metadata": {},
   "outputs": [],
   "source": []
  }
 ],
 "metadata": {
  "kernelspec": {
   "display_name": "pvps_bifacial_study_py36",
   "language": "python",
   "name": "pvps_bifacial_study_py36"
  },
  "language_info": {
   "codemirror_mode": {
    "name": "ipython",
    "version": 3
   },
   "file_extension": ".py",
   "mimetype": "text/x-python",
   "name": "python",
   "nbconvert_exporter": "python",
   "pygments_lexer": "ipython3",
   "version": "3.6.4"
  }
 },
 "nbformat": 4,
 "nbformat_minor": 2
}
