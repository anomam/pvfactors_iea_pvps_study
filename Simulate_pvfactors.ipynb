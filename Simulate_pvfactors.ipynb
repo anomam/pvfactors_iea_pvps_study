{
 "cells": [
  {
   "cell_type": "markdown",
   "metadata": {},
   "source": [
    "# Run pvfactors simulations"
   ]
  },
  {
   "cell_type": "code",
   "execution_count": 1,
   "metadata": {},
   "outputs": [],
   "source": [
    "from pathlib import Path\n",
    "import pandas as pd\n",
    "import json\n",
    "from pvfactors.viewfactors.aoimethods import faoi_fn_from_pvlib_sandia\n",
    "from pvfactors.geometry import OrderedPVArray\n",
    "from pvfactors.irradiance import HybridPerezOrdered\n",
    "from pvfactors.engine import PVEngine\n",
    "from copy import deepcopy\n",
    "import numpy as np\n",
    "import warnings\n",
    "import datetime as dt\n",
    "\n",
    "np.set_printoptions(precision=3, linewidth=300)\n",
    "warnings.filterwarnings('ignore')"
   ]
  },
  {
   "cell_type": "code",
   "execution_count": 2,
   "metadata": {},
   "outputs": [],
   "source": [
    "%matplotlib notebook"
   ]
  },
  {
   "cell_type": "markdown",
   "metadata": {},
   "source": [
    "## Prepare pvfactors inputs"
   ]
  },
  {
   "cell_type": "markdown",
   "metadata": {},
   "source": [
    "### faoi function"
   ]
  },
  {
   "cell_type": "code",
   "execution_count": 3,
   "metadata": {},
   "outputs": [],
   "source": [
    "module_name = \"SunPower_SPR_305_WHT___2009_\"\n",
    "faoi_function = faoi_fn_from_pvlib_sandia(module_name)"
   ]
  },
  {
   "cell_type": "markdown",
   "metadata": {},
   "source": [
    "### input data"
   ]
  },
  {
   "cell_type": "code",
   "execution_count": 4,
   "metadata": {},
   "outputs": [],
   "source": [
    "with open(Path('./inputs/configs.json'), 'r') as f:\n",
    "    configs = json.load(f)"
   ]
  },
  {
   "cell_type": "code",
   "execution_count": 5,
   "metadata": {},
   "outputs": [],
   "source": [
    "ts_inputs = {'TMY%i'%i: (pd.read_csv(Path('./inputs/TMY%i_timeseries.csv'%i),\n",
    "                                    parse_dates=['timestamps'])\n",
    "                         .set_index('timestamps'))\n",
    "             for i in range(1, 4)}"
   ]
  },
  {
   "cell_type": "markdown",
   "metadata": {},
   "source": [
    "## Run simulations"
   ]
  },
  {
   "cell_type": "code",
   "execution_count": 6,
   "metadata": {},
   "outputs": [],
   "source": [
    "# write pvfactors report function\n",
    "def report_fn(pvarray: OrderedPVArray):\n",
    "    qinc_back = 0\n",
    "    qinc_front = 0\n",
    "    qabs_back = 0\n",
    "    qabs_front = 0\n",
    "    for pvrow in pvarray.ts_pvrows:\n",
    "        qinc_back += pvrow.back.get_param_weighted('qinc')\n",
    "        qinc_front += pvrow.front.get_param_weighted('qinc')\n",
    "        qabs_back += pvrow.back.get_param_weighted('qabs')\n",
    "        qabs_front += pvrow.front.get_param_weighted('qabs')\n",
    "    # Get irradiance values\n",
    "    report = {'qinc_back': qinc_back, 'qabs_back': qabs_back,\n",
    "              'qinc_front': qinc_front, 'qabs_front': qabs_front}\n",
    "    return report"
   ]
  },
  {
   "cell_type": "code",
   "execution_count": 7,
   "metadata": {},
   "outputs": [],
   "source": [
    "def run_scenario(case, configs, ts_inputs, tmy_cases: list=['TMY1', 'TMY2', 'TMY3']):\n",
    "    print('-> running scenario {}'.format(case))\n",
    "    array_params = configs['pvfactors_config'][case]\n",
    "    irr_params = configs['irradiance_params'][case]\n",
    "    print(array_params)\n",
    "    final_report = {}\n",
    "    for tmy in tmy_cases:\n",
    "        print('----> running tmy {}'.format(tmy))\n",
    "        df_inputs = deepcopy(ts_inputs[tmy])\n",
    "        df_report = run_tmy_case(df_inputs, array_params, irr_params, tmy, case)\n",
    "        final_report[tmy] = df_report\n",
    "    print('...done')\n",
    "    return final_report\n",
    "\n",
    "def run_tmy_case(df_inputs, array_params, irr_params, tmy, case):\n",
    "    pvarray = OrderedPVArray.init_from_dict(array_params)\n",
    "    irr_model = HybridPerezOrdered(faoi_fn_front=faoi_function, faoi_fn_back=faoi_function,\n",
    "                                   **irr_params)\n",
    "    engine = PVEngine(pvarray, irradiance_model=irr_model)\n",
    "    # Prepare tracking or FT angles\n",
    "    if case == 'S4':\n",
    "        # Use single-axis tracker inputs\n",
    "        surface_tilt = df_inputs.S4_tilt\n",
    "        surface_azimuth = df_inputs.S4_azimuth\n",
    "    else:\n",
    "        surface_tilt = array_params['tilt'] * np.ones_like(df_inputs.ghi)\n",
    "        surface_azimuth = array_params['azimuth'] * np.ones_like(df_inputs.ghi)\n",
    "    # Fit engine\n",
    "    engine.fit(df_inputs.index, df_inputs.dni, df_inputs.dhi,\n",
    "               df_inputs.zenith, df_inputs.azimuth,\n",
    "               surface_tilt, surface_azimuth,\n",
    "               array_params['albedo'], ghi=df_inputs.ghi)\n",
    "    # Run full mode\n",
    "    report = engine.run_full_mode(fn_build_report=report_fn)\n",
    "    df_report = pd.DataFrame(report, index=df_inputs.index)\n",
    "    return df_report"
   ]
  },
  {
   "cell_type": "code",
   "execution_count": 8,
   "metadata": {},
   "outputs": [
    {
     "name": "stdout",
     "output_type": "stream",
     "text": [
      "-> running scenario S3\n",
      "{'n_pvrows': 1, 'axis_azimuth': 90, 'pvrow_height': 0.7945, 'pvrow_width': 0.989, 'gcr': 1, 'tilt': 90, 'azimuth': 90, 'albedo': 0.4}\n",
      "----> running tmy TMY1\n",
      "----> running tmy TMY2\n",
      "----> running tmy TMY3\n",
      "...done\n",
      "CPU times: user 2.28 s, sys: 536 ms, total: 2.81 s\n",
      "Wall time: 1.11 s\n"
     ]
    }
   ],
   "source": [
    "%%time\n",
    "case = 'S3'\n",
    "report = run_scenario(case, configs, ts_inputs)"
   ]
  },
  {
   "cell_type": "markdown",
   "metadata": {},
   "source": [
    "## Post-process results"
   ]
  },
  {
   "cell_type": "code",
   "execution_count": 9,
   "metadata": {},
   "outputs": [
    {
     "name": "stdout",
     "output_type": "stream",
     "text": [
      "S3\n",
      "TMY1\n",
      "sum front: 1280932.1141621806\n",
      "sum back: 1273070.7371132106\n",
      "bg: 0.9938627683996261\n",
      "TMY2\n",
      "sum front: 1130104.0280038223\n",
      "sum back: 1262298.6984473658\n",
      "bg: 1.1169756652199954\n",
      "TMY3\n",
      "sum front: 644525.2506098697\n",
      "sum back: 601586.4585805209\n",
      "bg: 0.9333791934626009\n"
     ]
    }
   ],
   "source": [
    "print(case)\n",
    "for tmy_case, df_report in report.items():\n",
    "    print(tmy_case)\n",
    "    df_sum = df_report.sum()\n",
    "    print('sum front: {}'.format(df_sum.qabs_front))\n",
    "    print('sum back: {}'.format(df_sum.qabs_back))\n",
    "    print('bg: {}'.format(df_sum.qabs_back / df_sum.qabs_front))"
   ]
  },
  {
   "cell_type": "markdown",
   "metadata": {},
   "source": [
    "Write csv file with daily results for TMY1 case"
   ]
  },
  {
   "cell_type": "code",
   "execution_count": 10,
   "metadata": {},
   "outputs": [],
   "source": [
    "dates = [dt.date(2003, 3, 21), dt.date(2003, 6, 21), dt.date(2003, 9, 21),\n",
    "         dt.date(2003, 12, 21), dt.date(2003, 6, 19), dt.date(2003, 8, 21)]\n",
    "if 'TMY1' in report:\n",
    "    df = report['TMY1']\n",
    "    inputs = ts_inputs['TMY1']\n",
    "    df['date'] = df.index.date\n",
    "    df_days = df.loc[df.date.isin(dates)].drop(['date', 'qinc_front', 'qinc_back'], axis=1)\n",
    "    df_days = df_days.join(inputs[['azimuth', 'zenith', 'S4_tilt']], how='left')\n",
    "    df_days = df_days[['qabs_front', 'qabs_back', 'azimuth', 'zenith', 'S4_tilt']]\n",
    "    df_days.to_csv(Path('./results/' + case + '_TMY1_details.csv'))\n",
    "    "
   ]
  }
 ],
 "metadata": {
  "kernelspec": {
   "display_name": "pvps_bifacial_study_py36",
   "language": "python",
   "name": "pvps_bifacial_study_py36"
  },
  "language_info": {
   "codemirror_mode": {
    "name": "ipython",
    "version": 3
   },
   "file_extension": ".py",
   "mimetype": "text/x-python",
   "name": "python",
   "nbconvert_exporter": "python",
   "pygments_lexer": "ipython3",
   "version": "3.6.4"
  }
 },
 "nbformat": 4,
 "nbformat_minor": 2
}
